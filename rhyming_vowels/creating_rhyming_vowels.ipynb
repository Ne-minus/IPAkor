{
 "cells": [
  {
   "cell_type": "code",
   "execution_count": 3,
   "metadata": {},
   "outputs": [],
   "source": [
    "rhymes = [\n",
    "    ['e', 'eɪ'],\n",
    "    ['ɛ', 'eɪ'],\n",
    "    ['ɛ', 'e'],\n",
    "    ['i', 'ɪ'],\n",
    "    ['o', 'oʊ'],\n",
    "    ['e', 'æ'],\n",
    "    ['ʌ', 'aɪ'],\n",
    "]\n",
    "new_rhymes = []"
   ]
  },
  {
   "cell_type": "code",
   "execution_count": 9,
   "metadata": {},
   "outputs": [],
   "source": [
    "rhymes = [\n",
    "    ['ɛ', 'e'],\n",
    "    ['o', 'ʌ']\n",
    "]\n",
    "new_rhymes = []"
   ]
  },
  {
   "cell_type": "code",
   "execution_count": 10,
   "metadata": {},
   "outputs": [],
   "source": [
    "for r in rhymes:\n",
    "    new_rhymes.append([r[1], r[0]])"
   ]
  },
  {
   "cell_type": "code",
   "execution_count": 12,
   "metadata": {},
   "outputs": [],
   "source": [
    "rhymes = [\n",
    "    ['i', 'ɪ'],\n",
    "    ['e', 'eɪ'],\n",
    "    ['e', 'ɛ'],\n",
    "    ['o', 'oʊ'],\n",
    "    ['ʌ', 'oʊ'],\n",
    "    ['e', 'æ'],\n",
    "    ['ɐ', 'aɪ'],\n",
    "    ['ɐ', 'ʌ'],\n",
    "    ['ɐ', 'ɑ'],\n",
    "    ['ʌ', 'ɚ']\n",
    "]\n",
    "new_rhymes = []"
   ]
  },
  {
   "cell_type": "code",
   "execution_count": 14,
   "metadata": {},
   "outputs": [],
   "source": [
    "for r in rhymes:\n",
    "    new_rhymes.append([r[1], r[0]])"
   ]
  },
  {
   "cell_type": "code",
   "execution_count": 15,
   "metadata": {},
   "outputs": [],
   "source": [
    "import json\n",
    "full_rhymes = new_rhymes\n",
    "with open('en_ko.json', 'w', encoding='utf-8') as f:\n",
    "    json.dump(full_rhymes, f, ensure_ascii=False, indent=3)"
   ]
  }
 ],
 "metadata": {
  "kernelspec": {
   "display_name": "Python 3",
   "language": "python",
   "name": "python3"
  },
  "language_info": {
   "codemirror_mode": {
    "name": "ipython",
    "version": 3
   },
   "file_extension": ".py",
   "mimetype": "text/x-python",
   "name": "python",
   "nbconvert_exporter": "python",
   "pygments_lexer": "ipython3",
   "version": "3.10.9"
  }
 },
 "nbformat": 4,
 "nbformat_minor": 2
}
